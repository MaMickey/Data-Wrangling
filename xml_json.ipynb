{
 "cells": [
  {
   "cell_type": "markdown",
   "metadata": {},
   "source": [
    "#### Name: Qiwen Ma\n",
    "\n",
    "Date: 5/4/2018\n",
    "\n",
    "Version: 3.0\n",
    "\n",
    "Environment: Python 3.6.0 and Jupyter notebook\n",
    "\n",
    "Libraries used:\n",
    "* json (for json file, included in Anaconda Python 3.6) \n",
    "* re 2.2.1 (for regular expression, included in Anaconda Python 3.6) \n",
    "\n",
    "## 1.Introduction\n",
    "This assignment make extraction of the data from an xml file and save the result into a csv file. The requirement can be explain as follow:\n",
    "1. The data structure is json. All the data should be save in a json file.\n",
    "2. Use only the regular expression to extract data.\n",
    "\n",
    "The detail of each section is shown below."
   ]
  },
  {
   "cell_type": "code",
   "execution_count": null,
   "metadata": {
    "collapsed": true
   },
   "outputs": [],
   "source": [
    "import re\n",
    "import json"
   ]
  },
  {
   "cell_type": "markdown",
   "metadata": {},
   "source": [
    "To open the xml file and use readlines method to present the data."
   ]
  },
  {
   "cell_type": "code",
   "execution_count": null,
   "metadata": {
    "collapsed": true
   },
   "outputs": [],
   "source": [
    "xml = open('australian-sport-thesaurus-student.xml', encoding= 'UTF-8')\n",
    "xml_lines = xml.readlines()\n",
    "#xml_lines"
   ]
  },
  {
   "cell_type": "markdown",
   "metadata": {},
   "source": [
    "Use the regular expression to find out the data in exact tag of the xml file."
   ]
  },
  {
   "cell_type": "code",
   "execution_count": null,
   "metadata": {
    "collapsed": true
   },
   "outputs": [],
   "source": [
    "reg_description = re.compile('(?<=<Description>)(.*?)(?=</Description>)')\n",
    "reg_start = re.compile('<Description>')\n",
    "reg_description_end = re.compile('</Term>')\n",
    "reg_related_terms = re.compile('<RelatedTerms>')\n",
    "reg_related_title = re.compile('(?<=<Title>)(.*?)(?=</Title>)')\n",
    "reg_title_end = re.compile('</RelatedTerms>')\n",
    "reg_relationship = re.compile('(?<=<Relationship>)(.*?)(?=</Relationship>)')"
   ]
  },
  {
   "cell_type": "markdown",
   "metadata": {},
   "source": [
    "After observation, the tag 'description','title' and 'related terms' are in one-level list. To find out the data inside these three tags and append in to a new list."
   ]
  },
  {
   "cell_type": "code",
   "execution_count": null,
   "metadata": {
    "collapsed": true
   },
   "outputs": [],
   "source": [
    "dic = {}\n",
    "dic[\"thesaurus\"] = []\n",
    "for i in range(0,len(xml_lines)):\n",
    "    dic1 = {}\n",
    "    c = reg_description.search(xml_lines[i])\n",
    "    #to find out the lines with 'description' tag and locate them\n",
    "    if reg_start.search(xml_lines[i]) != None:\n",
    "        #use the 'description' location to search for it previous and next tag and values\n",
    "        d = reg_related_title.search(xml_lines[i-1])\n",
    "        term = reg_description_end.search(xml_lines[i+1])\n",
    "        #if the data only have 'description' and 'title', append to a dictionary\n",
    "        if c != None and d != None:\n",
    "            if term != None:\n",
    "                dic1 = {\"Description\": c.group(), \"Title\": d.group()}\n",
    "            #if not, keep a null lits as the value of the 'related terms'\n",
    "            else:\n",
    "                dic1 = {\"Description\": c.group(),\"RelatedTerms\": [], \"Title\": d.group()}\n",
    "            dic[\"thesaurus\"].append(dic1)\n",
    "#print(dic)"
   ]
  },
  {
   "cell_type": "markdown",
   "metadata": {},
   "source": [
    "Then to structure the sublist of the 'related terms'. The data of the in the 'related term' tag is with tag 'title' and 'relationship'. But it can contain more than one pair of them in one 'related term'."
   ]
  },
  {
   "cell_type": "code",
   "execution_count": null,
   "metadata": {
    "collapsed": true
   },
   "outputs": [],
   "source": [
    "second_list = []\n",
    "dic3 = {}\n",
    "for k in range(0,len(xml_lines)):\n",
    "    dic_related = {}\n",
    "    dic_related[\"RelatedTerms\"] = []\n",
    "    #to locate the 'related terms' tag and find out it sub-tags\n",
    "    if reg_related_terms.search(xml_lines[k]) != None:\n",
    "        k += 2\n",
    "        #find out the 'title' and 'relationship' content of inside 'related terms' tag\n",
    "        a = reg_related_title.search(xml_lines[k])\n",
    "        relationship = reg_relationship.search(xml_lines[k + 1])\n",
    "        if a != None and relationship != None:\n",
    "            #structure the sub-dictionary of 'related terms' directly,\n",
    "            #if there is only one pair of 'title' and 'relationship'\n",
    "            dic3 = {\"Relationship\": relationship.group(),\"Title\": a.group()}\n",
    "            dic_related[\"RelatedTerms\"].append(dic3)\n",
    "            k += 3\n",
    "            #if the 'title' and 'relationship' tag pair is more than one,\n",
    "            #find out all of them and structure them in sub-dictionary\n",
    "            while reg_title_end.search(xml_lines[k]) == None:\n",
    "                k += 1\n",
    "                b = reg_related_title.search(xml_lines[k])\n",
    "                relationship = reg_relationship.search(xml_lines[k + 1])\n",
    "                if b != None and relationship != None:\n",
    "                    dic3 = {\"Relationship\": relationship.group(), \"Title\": b.group()}\n",
    "                    dic_related[\"RelatedTerms\"].append(dic3)\n",
    "        #print(dic_related)\n",
    "        second_list.append(dic_related)"
   ]
  },
  {
   "cell_type": "markdown",
   "metadata": {},
   "source": [
    "Afer extracting the data in one-level dictionary and sub-dictionary, to assign the 'related terms' sub-dictionary into the original null list. The aggregation of the two dictionaries makes the whole structure finished."
   ]
  },
  {
   "cell_type": "code",
   "execution_count": null,
   "metadata": {
    "collapsed": true
   },
   "outputs": [],
   "source": [
    "reg = re.compile('RelatedTerms')\n",
    "s= 0\n",
    "for dics in dic[\"thesaurus\"]:\n",
    "    if reg.search(str(dics)) !=None:        \n",
    "        dics[\"RelatedTerms\"] = second_list[s][\"RelatedTerms\"]\n",
    "        s += 1\n",
    "dics[\"RelatedTerms\"] = second_list[s][\"RelatedTerms\"]"
   ]
  },
  {
   "cell_type": "code",
   "execution_count": null,
   "metadata": {},
   "outputs": [],
   "source": [
    "dic"
   ]
  },
  {
   "cell_type": "markdown",
   "metadata": {},
   "source": [
    "Finally, to dump the data in to using json and save the data in to json file."
   ]
  },
  {
   "cell_type": "code",
   "execution_count": null,
   "metadata": {},
   "outputs": [],
   "source": [
    "data = json.dumps(dic,sort_keys = True)\n",
    "data"
   ]
  },
  {
   "cell_type": "code",
   "execution_count": null,
   "metadata": {
    "collapsed": true
   },
   "outputs": [],
   "source": [
    "with open('sport.dat.json','w') as file:\n",
    "    json.dump(dic,file,sort_keys = True)"
   ]
  },
  {
   "cell_type": "markdown",
   "metadata": {},
   "source": [
    "## 3. Summary"
   ]
  },
  {
   "cell_type": "markdown",
   "metadata": {},
   "source": [
    "After finishing this assignment task, what I have learned is concluded as follow:\n",
    "1. Using the regular expression to locate the content and find out the content of each lines.\n",
    "2. The xml file contain different situation of structure. It is important to observe the data, especially the with more than one 'title' and 'relationship' tag pairs in one 'related terms' tag, and there may be no 'related terms' tag in one 'title' and 'description' tag pair."
   ]
  }
 ],
 "metadata": {
  "kernelspec": {
   "display_name": "Python 3",
   "language": "python",
   "name": "python3"
  },
  "language_info": {
   "codemirror_mode": {
    "name": "ipython",
    "version": 3
   },
   "file_extension": ".py",
   "mimetype": "text/x-python",
   "name": "python",
   "nbconvert_exporter": "python",
   "pygments_lexer": "ipython3",
   "version": "3.6.3"
  }
 },
 "nbformat": 4,
 "nbformat_minor": 2
}
