{
 "cells": [
  {
   "cell_type": "markdown",
   "metadata": {},
   "source": [
    "#### Name: Qiwen Ma\n",
    "\n",
    "Date: 12/03/2018\n",
    "\n",
    "Version: 3.0\n",
    "\n",
    "Environment: Python 3.6.0 and Jupyter notebook\n",
    "\n",
    "Libraries used:\n",
    "* pandas (for dataframe, included in Anaconda Python 2.7) \n",
    "* re (for regular expression, included in Anaconda Python 2.7) "
   ]
  },
  {
   "cell_type": "markdown",
   "metadata": {},
   "source": [
    "## 1.  Import libraries "
   ]
  },
  {
   "cell_type": "code",
   "execution_count": null,
   "metadata": {
    "collapsed": true
   },
   "outputs": [],
   "source": [
    "# To import libraries needed in this assessment\n",
    "import pandas as pd\n",
    "import re"
   ]
  },
  {
   "cell_type": "markdown",
   "metadata": {
    "collapsed": true
   },
   "source": [
    "## 2. Parse PDF File\n",
    "\n",
    "The first step is to load the pdf file using pdftables."
   ]
  },
  {
   "cell_type": "code",
   "execution_count": null,
   "metadata": {
    "collapsed": true
   },
   "outputs": [],
   "source": [
    "from pdftables import get_tables\n",
    "pdfFile = './health.pdf'\n",
    "pdfobj = open(pdfFile,'rb')\n",
    "tables = get_tables(pdfobj)"
   ]
  },
  {
   "cell_type": "markdown",
   "metadata": {},
   "source": [
    "Then to skip the rows in summary and to seprate the data by pages."
   ]
  },
  {
   "cell_type": "code",
   "execution_count": null,
   "metadata": {},
   "outputs": [],
   "source": [
    "for table in tables:\n",
    "    for row in table[5:]:\n",
    "        if 'SUMMARY' in row[0]:\n",
    "            break\n",
    "        print (row)\n",
    "    print ('==========================\\n')"
   ]
  },
  {
   "cell_type": "markdown",
   "metadata": {},
   "source": [
    "Using the regular expression to settle the data."
   ]
  },
  {
   "cell_type": "code",
   "execution_count": null,
   "metadata": {
    "collapsed": true
   },
   "outputs": [],
   "source": [
    "reg = re.compile(\"^\\s*$\")\n",
    "reg1 = re.compile(\"[a-zA-Z]|\\(|\\)|\\s\")\n",
    "reg2 = re.compile(\"^[0-9]$|^100$|^[1-9][0-9]x?$|^–$|^$|^[0-9]x$\")\n",
    "reg3 = re.compile(\"[0-9]|–\")\n",
    "reg4 = re.compile(\"(100)|([1-9][0-9])\")\n",
    "reg5 = re.compile(\"^.*[0-9]+.*\")"
   ]
  },
  {
   "cell_type": "markdown",
   "metadata": {},
   "source": [
    "First, to find out all the country names and spreate them from numbers.To save each country name in each new list. "
   ]
  },
  {
   "cell_type": "code",
   "execution_count": null,
   "metadata": {},
   "outputs": [],
   "source": [
    "for table in tables:\n",
    "    for row in table[5:]:\n",
    "        if 'SUMMARY' in row[0]:\n",
    "            break\n",
    "        if reg.match(row[0]) != None:\n",
    "            break \n",
    "        newlist = []\n",
    "        newlist1 = []\n",
    "        # using regular expression to find out all the data that is characters only\n",
    "        country = \"\".join(re.findall(reg1,row[0]))\n",
    "        newlist.append(country) \n",
    "        print(newlist)"
   ]
  },
  {
   "cell_type": "markdown",
   "metadata": {},
   "source": [
    "Second, to separate the numbers,which are following the country names in the last page."
   ]
  },
  {
   "cell_type": "code",
   "execution_count": null,
   "metadata": {},
   "outputs": [],
   "source": [
    "for table in tables:\n",
    "    for row in table[5:]:\n",
    "        if 'SUMMARY' in row[0]:\n",
    "            break\n",
    "        if reg.match(row[0]) != None:\n",
    "            break \n",
    "        newlist = []\n",
    "        newlist1 = []\n",
    "        country = \"\".join(re.findall(reg1,row[0]))\n",
    "        newlist.append(country)       \n",
    "        \n",
    "        str1 = ''\n",
    "        #use search the matched data using regular expression and keep as a string in the first column\n",
    "        if reg5.search(row[0]) != None: \n",
    "            for num in row[0]:\n",
    "                if reg2.match(num) != None:\n",
    "                    str1 += num\n",
    "            #to split the string using regular expression\n",
    "            a = re.split(reg4,str1)\n",
    "            #to append the number spilt above to each list that contains country names\n",
    "            for i in range(0,len(a)):\n",
    "                if a[i] != None and a[i] !='':\n",
    "                    newlist.append(a[i])\n",
    "            print(newlist)"
   ]
  },
  {
   "cell_type": "markdown",
   "metadata": {},
   "source": [
    "Third, to separate the number that are aggregated togther in different places and append them into the list above."
   ]
  },
  {
   "cell_type": "code",
   "execution_count": null,
   "metadata": {},
   "outputs": [],
   "source": [
    "for table in tables:\n",
    "    for row in table[5:]:\n",
    "        if 'SUMMARY' in row[0]:\n",
    "            break\n",
    "        if reg.match(row[0]) != None:\n",
    "            break \n",
    "        newlist = []\n",
    "        newlist1 = []\n",
    "        country = \"\".join(re.findall(reg1,row[0]))\n",
    "        newlist.append(country)       \n",
    "        \n",
    "        str1 = ''\n",
    "        if reg5.search(row[0]) != None: \n",
    "            for num in row[0]:\n",
    "                if reg2.match(num) != None:\n",
    "                    str1 += num                   \n",
    "            a = re.split(reg4,str1)\n",
    "            for i in range(0,len(a)):\n",
    "                if a[i] != None and a[i] !='':\n",
    "                    newlist.append(a[i])\n",
    "        \n",
    "        for info in row[1:]: \n",
    "            str = ''\n",
    "            #to match the data that are with two number,100,number/numbers with 'x',desh and null \n",
    "            if re.match(reg2,info) != None:\n",
    "                newlist.append(info)\n",
    "            else:\n",
    "                for number in info:\n",
    "                    #to match the number one by one, if the number is a single value combine it with the next one \n",
    "                    str += number\n",
    "                    if re.match(reg2,str) == None:\n",
    "                        newlist.append(str[:-1])\n",
    "                        str = number\n",
    "                if str != None:\n",
    "                    newlist.append(str)\n",
    "        print(newlist)"
   ]
  },
  {
   "cell_type": "markdown",
   "metadata": {},
   "source": [
    "Then, save the data in a dataframe."
   ]
  },
  {
   "cell_type": "code",
   "execution_count": null,
   "metadata": {},
   "outputs": [],
   "source": [
    "data={}\n",
    "for table in tables:\n",
    "    for row in table[5:]:\n",
    "        if 'SUMMARY' in row[0]:\n",
    "            break\n",
    "        if reg.match(row[0]) != None:\n",
    "            break \n",
    "        newlist = []\n",
    "        newlist1 = []\n",
    "        country = \"\".join(re.findall(reg1,row[0]))\n",
    "        newlist.append(country)       \n",
    "        \n",
    "        str1 = ''\n",
    "        if reg5.search(row[0]) != None: \n",
    "            for num in row[0]:\n",
    "                if reg2.match(num) != None:\n",
    "                    str1 += num                   \n",
    "            a = re.split(reg4,str1)\n",
    "            for i in range(0,len(a)):\n",
    "                if a[i] != None and a[i] !='':\n",
    "                    newlist.append(a[i])\n",
    "        \n",
    "        for info in row[1:]: \n",
    "            str = ''\n",
    "            if re.match(reg2,info) != None:\n",
    "                newlist.append(info)\n",
    "            else:\n",
    "                for number in info:\n",
    "                    str += number\n",
    "                    if re.match(reg2,str) == None:\n",
    "                        newlist.append(str[:-1])\n",
    "                        str = number\n",
    "                if str != None:\n",
    "                    newlist.append(str)\n",
    "            data[newlist[0]]=newlist[1:]\n",
    "data = pd.DataFrame(data)\n",
    "#exchange the  row index and column names in the original dataframe\n",
    "df = data.T\n",
    "df"
   ]
  },
  {
   "cell_type": "markdown",
   "metadata": {},
   "source": [
    "For making the data to be accurate, here is a function to compare and check the exact two columns of data. For this assignment, it can be observed from the pdf file that the data in 'total', 'urban' and 'rural' column have their data characteristic. For most of the numbers in 'total' column is smaller than the numbers in 'urban' due to the data in 'rural'. The presentage data of 'rural' will affect the 'total' presentage. It need to have a check of the 'urban' and 'total' columns when the 'urban' data is larger than 'total'."
   ]
  },
  {
   "cell_type": "code",
   "execution_count": null,
   "metadata": {
    "collapsed": true
   },
   "outputs": [],
   "source": [
    "def check(name_list,list1,list2):\n",
    "    for i in range(0,len(list1)):\n",
    "        if list1[i] != '–' and list2[i] != '–' and int(list1[i]) > int(list2[i]):\n",
    "            print(\"To check\", \" \", name_list[i], \" \", list1[i] , \" \" , list2[i])   "
   ]
  },
  {
   "cell_type": "code",
   "execution_count": null,
   "metadata": {},
   "outputs": [],
   "source": [
    "total = df.iloc[0:202,3].tolist()\n",
    "urban = df.iloc[0:202,4].tolist()\n",
    "name = df.index.tolist()\n",
    "check(name,total,urban)"
   ]
  },
  {
   "cell_type": "markdown",
   "metadata": {},
   "source": [
    "After observation and check the data to the original pdf file, there is only one value in the dataframe is still not correct. Then replace the value from '71' to '7' and '8' to '18'."
   ]
  },
  {
   "cell_type": "code",
   "execution_count": null,
   "metadata": {},
   "outputs": [],
   "source": [
    "df.loc['Ethiopia'][3] = '7'\n",
    "df.loc['Ethiopia'][4] = '18'\n",
    "df.loc['Ethiopia']"
   ]
  },
  {
   "cell_type": "markdown",
   "metadata": {},
   "source": [
    "Finally, to delete the 'x' values that are with numbers and replace the desh values to null in the dataframe."
   ]
  },
  {
   "cell_type": "code",
   "execution_count": null,
   "metadata": {},
   "outputs": [],
   "source": [
    "for col_idx in range(len(df.columns)):\n",
    "    for row_idx in range(len(df)):\n",
    "        if 'x' in df.iloc[row_idx,col_idx]:\n",
    "            df.iloc[row_idx,col_idx] = df.iloc[row_idx,col_idx].strip('x')\n",
    "df"
   ]
  },
  {
   "cell_type": "code",
   "execution_count": null,
   "metadata": {},
   "outputs": [],
   "source": [
    "df_result = df.replace('–',' ')\n",
    "df_result"
   ]
  },
  {
   "cell_type": "code",
   "execution_count": null,
   "metadata": {
    "collapsed": true
   },
   "outputs": [],
   "source": [
    "df_result.to_csv('health.csv') "
   ]
  },
  {
   "cell_type": "markdown",
   "metadata": {},
   "source": [
    "## 3. Summary"
   ]
  },
  {
   "cell_type": "markdown",
   "metadata": {
    "collapsed": true
   },
   "source": [
    "After finishing this assignment task, what I have learned is concluded as follow:\n",
    "1. It is different to use search, findall and match function with the regular expression. In this assignment task, I use all these methods in different situation. It depends on the data that I need to extract.\n",
    "2. It can change the data type into string for further use. In this assignment I assigned the data to be a new string using the regular expression and then separate the number data."
   ]
  }
 ],
 "metadata": {
  "kernelspec": {
   "display_name": "Python 3",
   "language": "python",
   "name": "python3"
  },
  "language_info": {
   "codemirror_mode": {
    "name": "ipython",
    "version": 3
   },
   "file_extension": ".py",
   "mimetype": "text/x-python",
   "name": "python",
   "nbconvert_exporter": "python",
   "pygments_lexer": "ipython3",
   "version": "3.6.3"
  }
 },
 "nbformat": 4,
 "nbformat_minor": 1
}
