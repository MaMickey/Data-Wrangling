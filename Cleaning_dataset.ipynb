{
 "cells": [
  {
   "cell_type": "code",
   "execution_count": 1,
   "metadata": {
    "collapsed": true
   },
   "outputs": [],
   "source": [
    "import pandas as pd\n",
    "import re\n",
    "import numpy as np"
   ]
  },
  {
   "cell_type": "code",
   "execution_count": 2,
   "metadata": {
    "collapsed": true
   },
   "outputs": [],
   "source": [
    "job = pd.read_csv(\"dataset1_with_error.csv\",encoding = \"utf-8_sig\")"
   ]
  },
  {
   "cell_type": "code",
   "execution_count": 3,
   "metadata": {},
   "outputs": [
    {
     "name": "stdout",
     "output_type": "stream",
     "text": [
      "(25077, 11)\n"
     ]
    },
    {
     "data": {
      "text/html": [
       "<div>\n",
       "<style>\n",
       "    .dataframe thead tr:only-child th {\n",
       "        text-align: right;\n",
       "    }\n",
       "\n",
       "    .dataframe thead th {\n",
       "        text-align: left;\n",
       "    }\n",
       "\n",
       "    .dataframe tbody tr th {\n",
       "        vertical-align: top;\n",
       "    }\n",
       "</style>\n",
       "<table border=\"1\" class=\"dataframe\">\n",
       "  <thead>\n",
       "    <tr style=\"text-align: right;\">\n",
       "      <th></th>\n",
       "      <th>Id</th>\n",
       "      <th>Title</th>\n",
       "      <th>Location</th>\n",
       "      <th>ContractType</th>\n",
       "      <th>ContractTime</th>\n",
       "      <th>Company</th>\n",
       "      <th>Category</th>\n",
       "      <th>Salary per annum</th>\n",
       "      <th>SourceName</th>\n",
       "      <th>OpenDate</th>\n",
       "      <th>CloseDate</th>\n",
       "    </tr>\n",
       "  </thead>\n",
       "  <tbody>\n",
       "    <tr>\n",
       "      <th>0</th>\n",
       "      <td>12612628</td>\n",
       "      <td>Engineering Systems Analyst</td>\n",
       "      <td>Dorking</td>\n",
       "      <td>not available</td>\n",
       "      <td>permanent</td>\n",
       "      <td>Gregory Martin International</td>\n",
       "      <td>Engineering Jobs</td>\n",
       "      <td>24996</td>\n",
       "      <td>cv-library.co.uk</td>\n",
       "      <td>20121103T000000</td>\n",
       "      <td>20121203T000000</td>\n",
       "    </tr>\n",
       "    <tr>\n",
       "      <th>1</th>\n",
       "      <td>12612830</td>\n",
       "      <td>Stress Engineer Glasgow</td>\n",
       "      <td>Glasgow</td>\n",
       "      <td>not available</td>\n",
       "      <td>permanent</td>\n",
       "      <td>Gregory Martin International</td>\n",
       "      <td>Engineering Jobs</td>\n",
       "      <td>30000</td>\n",
       "      <td>cv-library.co.uk</td>\n",
       "      <td>20130108T150000</td>\n",
       "      <td>20130408T150000</td>\n",
       "    </tr>\n",
       "    <tr>\n",
       "      <th>2</th>\n",
       "      <td>12612844</td>\n",
       "      <td>Modelling and simulation analyst</td>\n",
       "      <td>Hampshire</td>\n",
       "      <td>not available</td>\n",
       "      <td>permanent</td>\n",
       "      <td>Gregory Martin International</td>\n",
       "      <td>Engineering Jobs</td>\n",
       "      <td>30000</td>\n",
       "      <td>cv-library.co.uk</td>\n",
       "      <td>20130726T150000</td>\n",
       "      <td>20130924T150000</td>\n",
       "    </tr>\n",
       "    <tr>\n",
       "      <th>3</th>\n",
       "      <td>12613049</td>\n",
       "      <td>Engineering Systems Analyst / Mathematical Mod...</td>\n",
       "      <td>Surrey</td>\n",
       "      <td>not available</td>\n",
       "      <td>permanent</td>\n",
       "      <td>Gregory Martin International</td>\n",
       "      <td>Engineering Jobs</td>\n",
       "      <td>27504</td>\n",
       "      <td>cv-library.co.uk</td>\n",
       "      <td>20121214T000000</td>\n",
       "      <td>20130314T000000</td>\n",
       "    </tr>\n",
       "    <tr>\n",
       "      <th>4</th>\n",
       "      <td>12613647</td>\n",
       "      <td>Pioneer, Miser Engineering Systems Analyst</td>\n",
       "      <td>Surrey</td>\n",
       "      <td>not available</td>\n",
       "      <td>permanent</td>\n",
       "      <td>Gregory Martin International</td>\n",
       "      <td>Engineering Jobs</td>\n",
       "      <td>24996</td>\n",
       "      <td>cv-library.co.uk</td>\n",
       "      <td>20131025T000000</td>\n",
       "      <td>20131224T000000</td>\n",
       "    </tr>\n",
       "  </tbody>\n",
       "</table>\n",
       "</div>"
      ],
      "text/plain": [
       "         Id                                              Title   Location  \\\n",
       "0  12612628                        Engineering Systems Analyst    Dorking   \n",
       "1  12612830                            Stress Engineer Glasgow    Glasgow   \n",
       "2  12612844                   Modelling and simulation analyst  Hampshire   \n",
       "3  12613049  Engineering Systems Analyst / Mathematical Mod...     Surrey   \n",
       "4  12613647         Pioneer, Miser Engineering Systems Analyst     Surrey   \n",
       "\n",
       "    ContractType ContractTime                       Company          Category  \\\n",
       "0  not available    permanent  Gregory Martin International  Engineering Jobs   \n",
       "1  not available    permanent  Gregory Martin International  Engineering Jobs   \n",
       "2  not available    permanent  Gregory Martin International  Engineering Jobs   \n",
       "3  not available    permanent  Gregory Martin International  Engineering Jobs   \n",
       "4  not available    permanent  Gregory Martin International  Engineering Jobs   \n",
       "\n",
       "  Salary per annum        SourceName         OpenDate        CloseDate  \n",
       "0            24996  cv-library.co.uk  20121103T000000  20121203T000000  \n",
       "1            30000  cv-library.co.uk  20130108T150000  20130408T150000  \n",
       "2            30000  cv-library.co.uk  20130726T150000  20130924T150000  \n",
       "3            27504  cv-library.co.uk  20121214T000000  20130314T000000  \n",
       "4            24996  cv-library.co.uk  20131025T000000  20131224T000000  "
      ]
     },
     "execution_count": 3,
     "metadata": {},
     "output_type": "execute_result"
    }
   ],
   "source": [
    "print(job.shape)\n",
    "job.head()"
   ]
  },
  {
   "cell_type": "code",
   "execution_count": 4,
   "metadata": {
    "scrolled": false
   },
   "outputs": [
    {
     "name": "stdout",
     "output_type": "stream",
     "text": [
      "<class 'pandas.core.frame.DataFrame'>\n",
      "RangeIndex: 25077 entries, 0 to 25076\n",
      "Data columns (total 11 columns):\n",
      "Id                  25077 non-null int64\n",
      "Title               25077 non-null object\n",
      "Location            25077 non-null object\n",
      "ContractType        25077 non-null object\n",
      "ContractTime        25077 non-null object\n",
      "Company             21242 non-null object\n",
      "Category            25077 non-null object\n",
      "Salary per annum    25077 non-null object\n",
      "SourceName          25077 non-null object\n",
      "OpenDate            25077 non-null object\n",
      "CloseDate           25077 non-null object\n",
      "dtypes: int64(1), object(10)\n",
      "memory usage: 2.1+ MB\n"
     ]
    }
   ],
   "source": [
    "job.info()"
   ]
  },
  {
   "cell_type": "code",
   "execution_count": 5,
   "metadata": {},
   "outputs": [
    {
     "data": {
      "text/html": [
       "<div>\n",
       "<style>\n",
       "    .dataframe thead tr:only-child th {\n",
       "        text-align: right;\n",
       "    }\n",
       "\n",
       "    .dataframe thead th {\n",
       "        text-align: left;\n",
       "    }\n",
       "\n",
       "    .dataframe tbody tr th {\n",
       "        vertical-align: top;\n",
       "    }\n",
       "</style>\n",
       "<table border=\"1\" class=\"dataframe\">\n",
       "  <thead>\n",
       "    <tr style=\"text-align: right;\">\n",
       "      <th></th>\n",
       "      <th>Title</th>\n",
       "      <th>Location</th>\n",
       "      <th>ContractType</th>\n",
       "      <th>ContractTime</th>\n",
       "      <th>Company</th>\n",
       "      <th>Category</th>\n",
       "      <th>Salary per annum</th>\n",
       "      <th>SourceName</th>\n",
       "      <th>OpenDate</th>\n",
       "      <th>CloseDate</th>\n",
       "    </tr>\n",
       "  </thead>\n",
       "  <tbody>\n",
       "    <tr>\n",
       "      <th>count</th>\n",
       "      <td>25077</td>\n",
       "      <td>25077</td>\n",
       "      <td>25077</td>\n",
       "      <td>25077</td>\n",
       "      <td>21242</td>\n",
       "      <td>25077</td>\n",
       "      <td>25077</td>\n",
       "      <td>25077</td>\n",
       "      <td>25077</td>\n",
       "      <td>25077</td>\n",
       "    </tr>\n",
       "    <tr>\n",
       "      <th>unique</th>\n",
       "      <td>25077</td>\n",
       "      <td>482</td>\n",
       "      <td>3</td>\n",
       "      <td>3</td>\n",
       "      <td>4879</td>\n",
       "      <td>8</td>\n",
       "      <td>1589</td>\n",
       "      <td>90</td>\n",
       "      <td>2203</td>\n",
       "      <td>2400</td>\n",
       "    </tr>\n",
       "    <tr>\n",
       "      <th>top</th>\n",
       "      <td>Asset Sales Specialist</td>\n",
       "      <td>UK</td>\n",
       "      <td>not available</td>\n",
       "      <td>permanent</td>\n",
       "      <td>UKStaffsearch</td>\n",
       "      <td>IT Jobs</td>\n",
       "      <td>35004</td>\n",
       "      <td>totaljobs.com</td>\n",
       "      <td>20130127T150000</td>\n",
       "      <td>20130526T120000</td>\n",
       "    </tr>\n",
       "    <tr>\n",
       "      <th>freq</th>\n",
       "      <td>1</td>\n",
       "      <td>3996</td>\n",
       "      <td>19499</td>\n",
       "      <td>16194</td>\n",
       "      <td>248</td>\n",
       "      <td>7085</td>\n",
       "      <td>1011</td>\n",
       "      <td>5335</td>\n",
       "      <td>27</td>\n",
       "      <td>23</td>\n",
       "    </tr>\n",
       "  </tbody>\n",
       "</table>\n",
       "</div>"
      ],
      "text/plain": [
       "                         Title Location   ContractType ContractTime  \\\n",
       "count                    25077    25077          25077        25077   \n",
       "unique                   25077      482              3            3   \n",
       "top     Asset Sales Specialist       UK  not available    permanent   \n",
       "freq                         1     3996          19499        16194   \n",
       "\n",
       "              Company Category Salary per annum     SourceName  \\\n",
       "count           21242    25077            25077          25077   \n",
       "unique           4879        8             1589             90   \n",
       "top     UKStaffsearch  IT Jobs            35004  totaljobs.com   \n",
       "freq              248     7085             1011           5335   \n",
       "\n",
       "               OpenDate        CloseDate  \n",
       "count             25077            25077  \n",
       "unique             2203             2400  \n",
       "top     20130127T150000  20130526T120000  \n",
       "freq                 27               23  "
      ]
     },
     "execution_count": 5,
     "metadata": {},
     "output_type": "execute_result"
    }
   ],
   "source": [
    "job.describe(include=['O'])"
   ]
  },
  {
   "cell_type": "code",
   "execution_count": 6,
   "metadata": {
    "collapsed": true
   },
   "outputs": [],
   "source": [
    "df = job.copy()"
   ]
  },
  {
   "cell_type": "markdown",
   "metadata": {},
   "source": [
    "### Id"
   ]
  },
  {
   "cell_type": "code",
   "execution_count": 7,
   "metadata": {},
   "outputs": [
    {
     "data": {
      "text/html": [
       "<div>\n",
       "<style>\n",
       "    .dataframe thead tr:only-child th {\n",
       "        text-align: right;\n",
       "    }\n",
       "\n",
       "    .dataframe thead th {\n",
       "        text-align: left;\n",
       "    }\n",
       "\n",
       "    .dataframe tbody tr th {\n",
       "        vertical-align: top;\n",
       "    }\n",
       "</style>\n",
       "<table border=\"1\" class=\"dataframe\">\n",
       "  <thead>\n",
       "    <tr style=\"text-align: right;\">\n",
       "      <th></th>\n",
       "      <th>Id</th>\n",
       "      <th>Title</th>\n",
       "      <th>Location</th>\n",
       "      <th>ContractType</th>\n",
       "      <th>ContractTime</th>\n",
       "      <th>Company</th>\n",
       "      <th>Category</th>\n",
       "      <th>Salary per annum</th>\n",
       "      <th>SourceName</th>\n",
       "      <th>OpenDate</th>\n",
       "      <th>CloseDate</th>\n",
       "    </tr>\n",
       "  </thead>\n",
       "  <tbody>\n",
       "  </tbody>\n",
       "</table>\n",
       "</div>"
      ],
      "text/plain": [
       "Empty DataFrame\n",
       "Columns: [Id, Title, Location, ContractType, ContractTime, Company, Category, Salary per annum, SourceName, OpenDate, CloseDate]\n",
       "Index: []"
      ]
     },
     "execution_count": 7,
     "metadata": {},
     "output_type": "execute_result"
    }
   ],
   "source": [
    "#To check that each record are in unique \"Id\"\n",
    "df[df.duplicated([\"Id\"], keep=False)]"
   ]
  },
  {
   "cell_type": "markdown",
   "metadata": {},
   "source": [
    "### Irregularities"
   ]
  },
  {
   "cell_type": "markdown",
   "metadata": {},
   "source": [
    "There are different errors in the Title column. \n",
    "1. It contains \"*\" symbols in some places. But this symbol cannot be replace as not enough related information can be used. If I delete the symbols, some information may be lost.\n",
    "2. The information in this column is irregular. Some of the titles even contain location information. \n",
    "3. It can be fixed by regularize the information to be the same fornt format."
   ]
  },
  {
   "cell_type": "markdown",
   "metadata": {},
   "source": [
    "### Title"
   ]
  },
  {
   "cell_type": "code",
   "execution_count": 8,
   "metadata": {
    "scrolled": false
   },
   "outputs": [
    {
     "data": {
      "text/plain": [
       "0                          Engineering Systems Analyst\n",
       "1                              Stress Engineer Glasgow\n",
       "2                     Modelling And Simulation Analyst\n",
       "3    Engineering Systems Analyst / Mathematical Mod...\n",
       "4           Pioneer, Miser Engineering Systems Analyst\n",
       "5              Trainee Mortgage Advisor  East Midlands\n",
       "6                     Project Engineer, Pharmaceutical\n",
       "7    Chef De Partie  Award Winning Restaurant  Exce...\n",
       "8                                     Quality Engineer\n",
       "9    Chef De Partie  Award Winning Dining  Live In ...\n",
       "Name: Title, dtype: object"
      ]
     },
     "execution_count": 8,
     "metadata": {},
     "output_type": "execute_result"
    }
   ],
   "source": [
    "#To capitalize the first character of each word only, which make the information in the same format.\n",
    "df[\"Title\"] = df[\"Title\"].str.title()\n",
    "df[\"Title\"].head(10)"
   ]
  },
  {
   "cell_type": "markdown",
   "metadata": {},
   "source": [
    "Following the requirement, change the contract type and contract time from \"not available\" to \"non-specified\""
   ]
  },
  {
   "cell_type": "markdown",
   "metadata": {},
   "source": [
    "### ContractType"
   ]
  },
  {
   "cell_type": "code",
   "execution_count": 9,
   "metadata": {
    "collapsed": true
   },
   "outputs": [],
   "source": [
    "df['ContractType'] = df['ContractType'].str.replace(\"not available\",\"non-specified\")\n",
    "#df"
   ]
  },
  {
   "cell_type": "markdown",
   "metadata": {},
   "source": [
    "### ContractTime"
   ]
  },
  {
   "cell_type": "code",
   "execution_count": 10,
   "metadata": {
    "collapsed": true
   },
   "outputs": [],
   "source": [
    "df['ContractTime'] = df['ContractTime'].str.replace(\"not available\",\"non-specified\")\n",
    "#df"
   ]
  },
  {
   "cell_type": "markdown",
   "metadata": {},
   "source": [
    "### Compay"
   ]
  },
  {
   "cell_type": "markdown",
   "metadata": {},
   "source": [
    "In the company column, there is a special record that contains the '.' instead of a company name. Although there is some missing values in this column, it can not be fixed as not enough information. This record can be seen as missing value and '.' here may not contain any useful information so delete it. "
   ]
  },
  {
   "cell_type": "code",
   "execution_count": 11,
   "metadata": {},
   "outputs": [
    {
     "name": "stdout",
     "output_type": "stream",
     "text": [
      "20472 .\n"
     ]
    }
   ],
   "source": [
    "# find out the company name that is with '.' only\n",
    "c = df.iloc[:,5]\n",
    "reg = re.compile(\"^\\.\")\n",
    "for index,data in enumerate(c.values):\n",
    "    if reg.search(str(data)) != None:\n",
    "        print(index,data)"
   ]
  },
  {
   "cell_type": "code",
   "execution_count": 12,
   "metadata": {
    "collapsed": true
   },
   "outputs": [],
   "source": [
    "df.Company.replace('.',np.nan,inplace = True)"
   ]
  },
  {
   "cell_type": "code",
   "execution_count": 13,
   "metadata": {},
   "outputs": [],
   "source": [
    "for i, data in enumerate(df.Company):\n",
    "    if \"Limited\" in str(data):\n",
    "        df.iloc[i,5] = df.iloc[i,5][:-7] + 'Ltd'\n",
    "    if \"LIMITED\" in str(data):\n",
    "        df.iloc[i,5] = df.iloc[i,5][:-7] + 'Ltd'\n",
    "    if \"Ltd\" in str(data):\n",
    "        df.iloc[i,5] = df.iloc[i,5][:-3] + 'Ltd'\n",
    "    if \"LTD\" in str(data):\n",
    "        df.iloc[i,5] = df.iloc[i,5][:-3] + 'Ltd'"
   ]
  },
  {
   "cell_type": "markdown",
   "metadata": {},
   "source": [
    "### Data inconsistency\n",
    "The feature \"Salary per annum\" has values with character \"k\" and range values,which are inconsistent with the other normal values."
   ]
  },
  {
   "cell_type": "markdown",
   "metadata": {},
   "source": [
    "### Salary per annum"
   ]
  },
  {
   "cell_type": "code",
   "execution_count": 14,
   "metadata": {},
   "outputs": [
    {
     "data": {
      "text/plain": [
       "133      30K\n",
       "134    32496\n",
       "135    25440\n",
       "136    30000\n",
       "Name: Salary per annum, dtype: object"
      ]
     },
     "execution_count": 14,
     "metadata": {},
     "output_type": "execute_result"
    }
   ],
   "source": [
    "df[\"Salary per annum\"].iloc[133:137]"
   ]
  },
  {
   "cell_type": "code",
   "execution_count": 15,
   "metadata": {},
   "outputs": [
    {
     "data": {
      "text/plain": [
       "133    30000\n",
       "134    32496\n",
       "135    25440\n",
       "136    30000\n",
       "Name: Salary per annum, dtype: object"
      ]
     },
     "execution_count": 15,
     "metadata": {},
     "output_type": "execute_result"
    }
   ],
   "source": [
    "#replace \"K\" with numerical values.\"K\" means Kilo, so replace it with \"000\"\n",
    "df[\"Salary per annum\"] = df[\"Salary per annum\"].str.replace(\"K\",\"000\")\n",
    "df[\"Salary per annum\"].iloc[133:137]"
   ]
  },
  {
   "cell_type": "markdown",
   "metadata": {},
   "source": [
    "There are still many range values in salary column, here use the mean value to replace the range values."
   ]
  },
  {
   "cell_type": "code",
   "execution_count": 16,
   "metadata": {},
   "outputs": [
    {
     "data": {
      "text/plain": [
       "1525    30871.199999999997 - 34120.8\n",
       "1526                           56640\n",
       "1527                           40500\n",
       "1528                           38004\n",
       "Name: Salary per annum, dtype: object"
      ]
     },
     "execution_count": 16,
     "metadata": {},
     "output_type": "execute_result"
    }
   ],
   "source": [
    "#The salary column have range values\n",
    "df[\"Salary per annum\"].iloc[1525:1529]"
   ]
  },
  {
   "cell_type": "code",
   "execution_count": 17,
   "metadata": {
    "collapsed": true
   },
   "outputs": [],
   "source": [
    "s2 = df.iloc[:,7]\n",
    "#use reglar expression to find the range values\n",
    "reg = re.compile(\"-\")\n",
    "# find the index and the data to be splited and count the mean values\n",
    "for index,data in enumerate(s2.values):\n",
    "    if reg.search(data) != None:\n",
    "        low_salary = float(data.split(' ')[0])\n",
    "        high_salary = float(data.split(' ')[2])\n",
    "        mean_salary = round(low_salary + high_salary)//2\n",
    "        df.iloc[index,7] = mean_salary"
   ]
  },
  {
   "cell_type": "code",
   "execution_count": 18,
   "metadata": {},
   "outputs": [
    {
     "data": {
      "text/plain": [
       "1525    32496\n",
       "1526    56640\n",
       "1527    40500\n",
       "1528    38004\n",
       "Name: Salary per annum, dtype: object"
      ]
     },
     "execution_count": 18,
     "metadata": {},
     "output_type": "execute_result"
    }
   ],
   "source": [
    "#The range valuse were changed to be mean values \n",
    "df[\"Salary per annum\"].iloc[1525:1529]"
   ]
  },
  {
   "cell_type": "markdown",
   "metadata": {},
   "source": [
    "### Source Name"
   ]
  },
  {
   "cell_type": "markdown",
   "metadata": {},
   "source": [
    "In the source name column, there are some source names that are in incorrect format and need to be fixed."
   ]
  },
  {
   "cell_type": "code",
   "execution_count": 19,
   "metadata": {},
   "outputs": [
    {
     "name": "stdout",
     "output_type": "stream",
     "text": [
      "5663 monashstudent\n",
      "12871 jobcareer\n",
      "15379 admin@caterer.com\n"
     ]
    }
   ],
   "source": [
    "# find out the source names that are not normal ip address\n",
    "n = df.iloc[:,8]\n",
    "reg = re.compile(\"@\")\n",
    "reg1 = re.compile(\"\\.\")\n",
    "for index,data in enumerate(n.values):\n",
    "    if reg.search(data) != None:\n",
    "        print(index,data)\n",
    "    if reg1.search(data) == None:\n",
    "        print(index,data)"
   ]
  },
  {
   "cell_type": "code",
   "execution_count": 20,
   "metadata": {
    "collapsed": true
   },
   "outputs": [],
   "source": [
    "df.SourceName.replace(\"monashstudent\",\"www.monash.edu/careers\",inplace = True)\n",
    "df.SourceName.replace(\"jobcareer\",\"jobcareer.com\",inplace = True)\n",
    "df.SourceName.replace(\"admin@caterer.com\",\"caterer.com\",inplace = True)"
   ]
  },
  {
   "cell_type": "code",
   "execution_count": 21,
   "metadata": {},
   "outputs": [
    {
     "data": {
      "text/plain": [
       "5663    www.monash.edu/careers\n",
       "Name: SourceName, dtype: object"
      ]
     },
     "execution_count": 21,
     "metadata": {},
     "output_type": "execute_result"
    }
   ],
   "source": [
    "df[\"SourceName\"].iloc[5663:5664]"
   ]
  },
  {
   "cell_type": "code",
   "execution_count": 22,
   "metadata": {},
   "outputs": [
    {
     "data": {
      "text/plain": [
       "12871    jobcareer.com\n",
       "Name: SourceName, dtype: object"
      ]
     },
     "execution_count": 22,
     "metadata": {},
     "output_type": "execute_result"
    }
   ],
   "source": [
    "df[\"SourceName\"].iloc[12871:12872]"
   ]
  },
  {
   "cell_type": "code",
   "execution_count": 23,
   "metadata": {},
   "outputs": [
    {
     "data": {
      "text/plain": [
       "15379    caterer.com\n",
       "Name: SourceName, dtype: object"
      ]
     },
     "execution_count": 23,
     "metadata": {},
     "output_type": "execute_result"
    }
   ],
   "source": [
    "df[\"SourceName\"].iloc[15379:15380]"
   ]
  },
  {
   "cell_type": "markdown",
   "metadata": {},
   "source": [
    "### Violations of the Integrity constraint"
   ]
  },
  {
   "cell_type": "markdown",
   "metadata": {},
   "source": [
    "The two date columns contains values that are dates over 31 or months over 12. It can assumes that these dates put the date and the months in the wrong places. To find out these data and exchange their places. "
   ]
  },
  {
   "cell_type": "markdown",
   "metadata": {},
   "source": [
    "### OpenDate"
   ]
  },
  {
   "cell_type": "code",
   "execution_count": 24,
   "metadata": {
    "collapsed": true
   },
   "outputs": [],
   "source": [
    "#To check use a function to check the date\n",
    "def check_date(t):\n",
    "    for i,data in enumerate(t):\n",
    "        month = data.split(\"T\")[0][4:6]\n",
    "        date = data.split(\"T\")[0][6:8]\n",
    "        if int(month) > 12:\n",
    "            print(\"Check the date in row %s\" %i)\n",
    "        if int(date) > 31:\n",
    "            print(\"Check the date in row %s\" %i)"
   ]
  },
  {
   "cell_type": "code",
   "execution_count": 25,
   "metadata": {},
   "outputs": [
    {
     "name": "stdout",
     "output_type": "stream",
     "text": [
      "Check the date in row 1102\n",
      "Check the date in row 2104\n",
      "Check the date in row 2839\n",
      "Check the date in row 5707\n",
      "Check the date in row 10881\n",
      "Check the date in row 11948\n",
      "Check the date in row 15353\n",
      "Check the date in row 22918\n",
      "Check the date in row 23007\n",
      "Check the date in row 23169\n"
     ]
    }
   ],
   "source": [
    "#To check the OpenDate column and find out the wrong date\n",
    "check_date(df[\"OpenDate\"])"
   ]
  },
  {
   "cell_type": "markdown",
   "metadata": {},
   "source": [
    "### CloseDate"
   ]
  },
  {
   "cell_type": "code",
   "execution_count": 26,
   "metadata": {
    "collapsed": true
   },
   "outputs": [],
   "source": [
    "#To check the CloseDate column but there is not any wrong date\n",
    "check_date(df[\"CloseDate\"])"
   ]
  },
  {
   "cell_type": "code",
   "execution_count": 27,
   "metadata": {
    "collapsed": true
   },
   "outputs": [],
   "source": [
    "#To check use a function to check the time\n",
    "def check_Time(t):\n",
    "    for i,data in enumerate(t):\n",
    "        hour = data.split(\"T\")[1][0:2]\n",
    "        minute = data.split(\"T\")[1][2:4]\n",
    "        second = data.split(\"T\")[1][4:6]\n",
    "        if int(hour) > 60:\n",
    "            print(\"Check the date in row %s\" %i)\n",
    "        if int(minute) > 60:\n",
    "            print(\"Check the date in row %s\" %i)\n",
    "        if int(second) > 60:\n",
    "            print(\"Check the date in row %s\" %i)"
   ]
  },
  {
   "cell_type": "code",
   "execution_count": 28,
   "metadata": {
    "collapsed": true
   },
   "outputs": [],
   "source": [
    "#To check the OpenDate column but there is not any wrong date\n",
    "check_Time(df[\"OpenDate\"])"
   ]
  },
  {
   "cell_type": "code",
   "execution_count": 29,
   "metadata": {
    "collapsed": true
   },
   "outputs": [],
   "source": [
    "#To check the CloseDate column but there is not any wrong date\n",
    "check_Time(df[\"CloseDate\"])"
   ]
  },
  {
   "cell_type": "markdown",
   "metadata": {},
   "source": [
    "To correct the OpenDate and also compare it to the CloseDate. There is some OpenDate that are later than the CloseDate, so it is needed to exchange their places."
   ]
  },
  {
   "cell_type": "code",
   "execution_count": 30,
   "metadata": {},
   "outputs": [
    {
     "name": "stdout",
     "output_type": "stream",
     "text": [
      "Check row 6659\n",
      "Change result: 20130404T000000 20130703T000000\n",
      "Check row 9568\n",
      "Change result: 20120205T000000 20120306T000000\n",
      "Check row 11043\n",
      "Change result: 20131006T000000 20131105T000000\n",
      "Check row 12473\n",
      "Change result: 20131023T150000 20131222T150000\n",
      "Check row 19142\n",
      "Change result: 20120505T150000 20120803T150000\n",
      "Check row 24206\n",
      "Change result: 20130324T150000 20130622T150000\n",
      "Check row 24297\n",
      "Change result: 20121018T000000 20130116T000000\n",
      "Check row 25039\n",
      "Change result: 20130608T120000 20130708T120000\n"
     ]
    }
   ],
   "source": [
    "t1 = df.iloc[:,9]\n",
    "t2 = df.iloc[:,10]\n",
    "for i,data in enumerate(t1):\n",
    "    month = data.split(\"T\")[0][4:6]\n",
    "    date = data.split(\"T\")[0][6:8]\n",
    "    if int(month) > 12:\n",
    "        month, date = date, month\n",
    "        new_t1 = month + date\n",
    "        df.iloc[i,9]= df.iloc[i,9].replace(df.iloc[i,9].split(\"T\")[0][4:8],new_t1)\n",
    "    if int(df.iloc[i,9].split(\"T\")[0]) > int(df.iloc[i,10].split(\"T\")[0]):\n",
    "        print(\"Check row %s\" %i)\n",
    "        df.iloc[i,9],df.iloc[i,10] = df.iloc[i,10],df.iloc[i,9]\n",
    "        print(\"Change result:\", df.iloc[i,9],df.iloc[i,10])"
   ]
  },
  {
   "cell_type": "code",
   "execution_count": 31,
   "metadata": {},
   "outputs": [
    {
     "name": "stdout",
     "output_type": "stream",
     "text": [
      "1102    20130318T120000\n",
      "Name: OpenDate, dtype: object\n",
      "1102    20130417T120000\n",
      "Name: CloseDate, dtype: object\n",
      "6659    20130404T000000\n",
      "Name: OpenDate, dtype: object\n",
      "6659    20130703T000000\n",
      "Name: CloseDate, dtype: object\n"
     ]
    }
   ],
   "source": [
    "#To check the changing result is correct\n",
    "print(df[\"OpenDate\"].iloc[1102:1103])\n",
    "print(df[\"CloseDate\"].iloc[1102:1103])\n",
    "print(df[\"OpenDate\"].iloc[6659:6660])\n",
    "print(df[\"CloseDate\"].iloc[6659:6660])"
   ]
  },
  {
   "cell_type": "markdown",
   "metadata": {},
   "source": [
    "### Lexical errors"
   ]
  },
  {
   "cell_type": "markdown",
   "metadata": {},
   "source": [
    "### Location"
   ]
  },
  {
   "cell_type": "code",
   "execution_count": 32,
   "metadata": {},
   "outputs": [
    {
     "data": {
      "text/plain": [
       "UK                      3996\n",
       "London                  2743\n",
       "South East London       1433\n",
       "The City                 558\n",
       "Leeds                    343\n",
       "Manchester               334\n",
       "Surrey                   317\n",
       "Central London           316\n",
       "Reading                  300\n",
       "Birmingham               292\n",
       "West Midlands            273\n",
       "East Sheen               222\n",
       "Bristol                  222\n",
       "Berkshire                202\n",
       "Nottingham               196\n",
       "Oxford                   190\n",
       "Hampshire                184\n",
       "Milton Keynes            180\n",
       "Cambridge                172\n",
       "Sheffield                160\n",
       "Kent                     158\n",
       "Newcastle Upon Tyne      156\n",
       "Hertfordshire            155\n",
       "Guildford                147\n",
       "Aberdeen                 141\n",
       "Leicester                139\n",
       "Cheshire                 133\n",
       "Oxfordshire              127\n",
       "West Yorkshire           127\n",
       "Belfast                  125\n",
       "                        ... \n",
       "St. Ives                   4\n",
       "Surey                      4\n",
       "Reeding                    4\n",
       "Cobham                     4\n",
       "Jersey                     4\n",
       "Hitchin                    4\n",
       "Towcester                  4\n",
       "Stourbridge                4\n",
       "Melksham                   4\n",
       "Linlithgow                 4\n",
       "Twickenham                 4\n",
       "Sutton-In-Ashfield         3\n",
       "Buckingham                 3\n",
       "Workington                 3\n",
       "Thames Ditton              3\n",
       "Brierley Hill              3\n",
       "Chipping Campden           3\n",
       "Sudbury                    3\n",
       "Bourne End                 3\n",
       "Alcester                   2\n",
       "Petersfield                2\n",
       "Pontefract                 2\n",
       "Redcar                     2\n",
       "St. Neots                  2\n",
       "Lewisham                   2\n",
       "Glenrothes                 2\n",
       "Dover                      2\n",
       "Rochdale                   2\n",
       "Dumfries                   1\n",
       "Newcastle-under-Lyme       1\n",
       "Name: Location, Length: 482, dtype: int64"
      ]
     },
     "execution_count": 32,
     "metadata": {},
     "output_type": "execute_result"
    }
   ],
   "source": [
    "#To check the appreance of each location\n",
    "df['Location'].value_counts()"
   ]
  },
  {
   "cell_type": "markdown",
   "metadata": {},
   "source": [
    "After checking the location names with less appearance in the column, I found that the these are correct location name in England. So I need to compare the location names with each other in the same column to find out the particular ones that are incorrect."
   ]
  },
  {
   "cell_type": "code",
   "execution_count": 33,
   "metadata": {},
   "outputs": [
    {
     "name": "stdout",
     "output_type": "stream",
     "text": [
      "57 Surrey 53 Surey\n",
      "176 East Midlands 171 West Midlands\n",
      "185 North East England 172 North West England\n",
      "354 North East England 341 South East England\n",
      "33 North Yorkshire 19 South Yorkshire\n",
      "147 North Yorkshire 133 North Ayrshire\n",
      "420 Buckinghamshire 404 Buckingham\n",
      "56 Manchester 34 Winchester\n",
      "140 Bradford 116 Bedford\n",
      "142 South Yorkshire 108 South Lanarkshire\n",
      "55 Nottinghamshire 20 Nottingham\n",
      "117 Northamptonshire 81 Northampton\n",
      "149 Hertfordshire 110 Bedfordshire\n",
      "276 Hertfordshire 237 Herefordshire\n",
      "169 Warrington 128 Workington\n",
      "204 Warrington 163 Washington\n",
      "225 Warrington 184 Darlington\n",
      "206 South East London 163 South West London\n",
      "241 Leeds 196 Lewes\n",
      "453 Leeds 408 Leads\n",
      "75 North West London 29 North London\n",
      "206 North West London 160 South West London\n",
      "93 West Sussex 42 East Sussex\n",
      "285 Norwich 233 Northwich\n",
      "479 Nottingham 423 Nottinham\n",
      "182 Winchester 125 Chichester\n",
      "117 Southampton 55 Northampton\n",
      "211 West London 146 East London\n",
      "135 Boston 69 Bolton\n",
      "376 Leicester 309 Bicester\n",
      "112 Harlow 37 Harrow\n",
      "129 Harlow 54 Marlow\n",
      "382 Woking 305 Wokingham\n",
      "410 Oxford 329 Oxfords\n",
      "171 Burnley 70 Barnsley\n",
      "137 Colchester 30 Dorchester\n",
      "177 Colchester 70 Chester\n",
      "182 Colchester 75 Chichester\n",
      "432 Colchester 325 Rochester\n",
      "160 Watford 50 Dartford\n",
      "408 Hereford 292 Hertford\n",
      "215 Reeding 91 Reading\n",
      "336 Thetford 208 Telford\n",
      "231 Dorchester 93 Worcester\n",
      "432 Dorchester 294 Rochester\n",
      "218 Gloucester 72 Gloucestershire\n",
      "276 Bedfordshire 126 Herefordshire\n",
      "182 Chester 4 Chichester\n",
      "244 North West England 58 South West England\n",
      "383 Fareham 182 Farnham\n",
      "274 Stafford 66 Stamford\n",
      "337 Stafford 129 Salford\n",
      "226 South Shields 13 North Shields\n",
      "395 Farnborough 181 Scarborough\n",
      "267 Gloucestershire 48 Worcestershire\n",
      "282 Dewsbury 54 Newbury\n",
      "354 South West England 109 South East England\n",
      "337 Stamford 62 Salford\n",
      "436 Tamworth 148 Tadworth\n",
      "405 Trowbridge 53 Tonbridge\n",
      "467 Uxbridge 106 Axbridge\n",
      "426 Chatham 36 Thatcham\n"
     ]
    }
   ],
   "source": [
    "#To use a matching library to check the similarity of each location name\n",
    "from fuzzywuzzy import fuzz\n",
    "from fuzzywuzzy import process\n",
    "\n",
    "unique_location = df['Location'].unique()\n",
    "for i, location in enumerate(unique_location):\n",
    "    for j,location2 in enumerate(unique_location[i+1:]):\n",
    "        similar_rate = fuzz.ratio(location,location2)\n",
    "        i += 1\n",
    "        #To use the similar rate of 85 to find out the dataset that have similar location name\n",
    "        if similar_rate >= 80 :\n",
    "            print(i,location,j,location2)"
   ]
  },
  {
   "cell_type": "markdown",
   "metadata": {},
   "source": [
    "After searching all the location names of the list above in Google, I find out that some location names are totally not exist in England. They are:\n",
    "1. Surey\n",
    "2. Nottinham\n",
    "3. Oxfords\n",
    "4. Reeding\n",
    "5. Leads\n",
    "\n",
    "So I need to fix this location name to be the correct ones."
   ]
  },
  {
   "cell_type": "code",
   "execution_count": 34,
   "metadata": {},
   "outputs": [],
   "source": [
    "for data in (df.Location):\n",
    "    if data == \"Surey\":\n",
    "        df.Location.replace(\"Surey\",\"Surrey\",inplace = True)\n",
    "    if data == \"Nottinham\":\n",
    "        df.Location.replace(\"Nottinham\",\"Nottingham\",inplace = True)\n",
    "    if data == \"Oxfords\":\n",
    "        df.Location.replace(\"Oxfords\",\"Oxford\",inplace = True)\n",
    "    if data == \"Reeding\":\n",
    "        df.Location.replace(\"Reeding\",\"Reading\",inplace = True)\n",
    "    if data == \"Leads\":\n",
    "        df.Location.replace(\"Leads\",\"Leeds\",inplace = True)"
   ]
  },
  {
   "cell_type": "code",
   "execution_count": 35,
   "metadata": {},
   "outputs": [
    {
     "data": {
      "text/html": [
       "<div>\n",
       "<style>\n",
       "    .dataframe thead tr:only-child th {\n",
       "        text-align: right;\n",
       "    }\n",
       "\n",
       "    .dataframe thead th {\n",
       "        text-align: left;\n",
       "    }\n",
       "\n",
       "    .dataframe tbody tr th {\n",
       "        vertical-align: top;\n",
       "    }\n",
       "</style>\n",
       "<table border=\"1\" class=\"dataframe\">\n",
       "  <thead>\n",
       "    <tr style=\"text-align: right;\">\n",
       "      <th></th>\n",
       "      <th>Id</th>\n",
       "      <th>Title</th>\n",
       "      <th>Location</th>\n",
       "      <th>ContractType</th>\n",
       "      <th>ContractTime</th>\n",
       "      <th>Company</th>\n",
       "      <th>Category</th>\n",
       "      <th>Salary per annum</th>\n",
       "      <th>SourceName</th>\n",
       "      <th>OpenDate</th>\n",
       "      <th>CloseDate</th>\n",
       "    </tr>\n",
       "  </thead>\n",
       "  <tbody>\n",
       "    <tr>\n",
       "      <th>122</th>\n",
       "      <td>46626802</td>\n",
       "      <td>Nursing Home Staff Nurse Job Surrey</td>\n",
       "      <td>Surrey</td>\n",
       "      <td>full_time</td>\n",
       "      <td>non-specified</td>\n",
       "      <td>NaN</td>\n",
       "      <td>Healthcare &amp; Nursing Jobs</td>\n",
       "      <td>23040</td>\n",
       "      <td>careworx.co.uk</td>\n",
       "      <td>20130512T120000</td>\n",
       "      <td>20130810T120000</td>\n",
       "    </tr>\n",
       "  </tbody>\n",
       "</table>\n",
       "</div>"
      ],
      "text/plain": [
       "           Id                                Title Location ContractType  \\\n",
       "122  46626802  Nursing Home Staff Nurse Job Surrey   Surrey    full_time   \n",
       "\n",
       "      ContractTime Company                   Category Salary per annum  \\\n",
       "122  non-specified     NaN  Healthcare & Nursing Jobs            23040   \n",
       "\n",
       "         SourceName         OpenDate        CloseDate  \n",
       "122  careworx.co.uk  20130512T120000  20130810T120000  "
      ]
     },
     "execution_count": 35,
     "metadata": {},
     "output_type": "execute_result"
    }
   ],
   "source": [
    "df.iloc[122:123]"
   ]
  },
  {
   "cell_type": "markdown",
   "metadata": {},
   "source": [
    "### Category "
   ]
  },
  {
   "cell_type": "markdown",
   "metadata": {},
   "source": [
    "In the category column, there are 8 categories and each seems to be correct."
   ]
  },
  {
   "cell_type": "code",
   "execution_count": 36,
   "metadata": {},
   "outputs": [
    {
     "data": {
      "text/plain": [
       "IT Jobs                             7085\n",
       "Healthcare & Nursing Jobs           4334\n",
       "Engineering Jobs                    3458\n",
       "Accounting & Finance Jobs           3099\n",
       "Sales Jobs                          2609\n",
       "Hospitality & Catering Jobs         2124\n",
       "Teaching Jobs                       1378\n",
       "PR, Advertising & Marketing Jobs     990\n",
       "Name: Category, dtype: int64"
      ]
     },
     "execution_count": 36,
     "metadata": {},
     "output_type": "execute_result"
    }
   ],
   "source": [
    "df['Category'].value_counts()"
   ]
  },
  {
   "cell_type": "code",
   "execution_count": 37,
   "metadata": {
    "collapsed": true
   },
   "outputs": [],
   "source": [
    "df1 = df.set_index('Id', inplace = False)"
   ]
  },
  {
   "cell_type": "code",
   "execution_count": 38,
   "metadata": {},
   "outputs": [
    {
     "name": "stdout",
     "output_type": "stream",
     "text": [
      "(25077, 10)\n"
     ]
    }
   ],
   "source": [
    "print(df1.shape)"
   ]
  },
  {
   "cell_type": "code",
   "execution_count": 39,
   "metadata": {
    "collapsed": true
   },
   "outputs": [],
   "source": [
    "df1.to_csv('dataset1_solution.csv',encoding = \"utf-8_sig\")  "
   ]
  },
  {
   "cell_type": "markdown",
   "metadata": {},
   "source": [
    "### Summary"
   ]
  },
  {
   "cell_type": "markdown",
   "metadata": {},
   "source": [
    "1. To identify the data errors in according to the data characteristics and find the errors column by column. This can be helpful to find out error in more detail.\n",
    "2. According to the data, some data correction need to combine with assumption. The date column is fixed by exchanging the data places.\n",
    "3. For categorical values, the correction is more complicated. It is needed to use various packages and methods to fixed the errors."
   ]
  }
 ],
 "metadata": {
  "kernelspec": {
   "display_name": "Python 3",
   "language": "python",
   "name": "python3"
  },
  "language_info": {
   "codemirror_mode": {
    "name": "ipython",
    "version": 3
   },
   "file_extension": ".py",
   "mimetype": "text/x-python",
   "name": "python",
   "nbconvert_exporter": "python",
   "pygments_lexer": "ipython3",
   "version": "3.6.3"
  }
 },
 "nbformat": 4,
 "nbformat_minor": 2
}
